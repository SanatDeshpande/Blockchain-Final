{
 "cells": [
  {
   "cell_type": "code",
   "execution_count": 1,
   "metadata": {},
   "outputs": [
    {
     "name": "stdout",
     "output_type": "stream",
     "text": [
      "True\n"
     ]
    }
   ],
   "source": [
    "import numpy as np\n",
    "import torch\n",
    "import torch.nn as nn\n",
    "import torch.nn.functional as F\n",
    "import os\n",
    "import torch.distributions.binomial as Binomial\n",
    "torch.set_default_tensor_type(torch.cuda.FloatTensor if torch.cuda.is_available() else torch.FloatTensor)\n",
    "print(torch.cuda.is_available())"
   ]
  },
  {
   "cell_type": "code",
   "execution_count": 2,
   "metadata": {},
   "outputs": [],
   "source": [
    "class Model(nn.Module):\n",
    "    def __init__(self, input_size, hidden_size):\n",
    "        super(Model, self).__init__()\n",
    "        self.input_size = input_size\n",
    "        self.hidden_size = hidden_size\n",
    "        \n",
    "        self.lstm = nn.LSTM(input_size, hidden_size, batch_first=True)\n",
    "    \n",
    "    def forward(self, x, hidden):\n",
    "        output, hidden = self.lstm(x, hidden)\n",
    "        return torch.round(torch.sigmoid(output)), hidden"
   ]
  },
  {
   "cell_type": "code",
   "execution_count": 7,
   "metadata": {},
   "outputs": [],
   "source": [
    "#sample fake input\n",
    "training_data = []\n",
    "for i in range(65536):\n",
    "    size = np.random.randint(1, 30)\n",
    "    data = np.zeros(512 * size)\n",
    "    s = np.random.choice(len(data), np.random.randint(len(data)), replace=False)\n",
    "    data[s] = 1\n",
    "    data = data.reshape(1, size, 512)\n",
    "    data = torch.Tensor(data)\n",
    "    training_data.append(data)\n"
   ]
  },
  {
   "cell_type": "code",
   "execution_count": 8,
   "metadata": {},
   "outputs": [],
   "source": [
    "model = Model(512, 256)\n",
    "model.load_state_dict(torch.load(\"./models/lstm\"))\n",
    "hidden = (torch.Tensor(np.zeros((1, 1, 256))), torch.Tensor(np.zeros((1, 1, 256))))"
   ]
  },
  {
   "cell_type": "code",
   "execution_count": 9,
   "metadata": {},
   "outputs": [],
   "source": [
    "optimizer = torch.optim.Adam(list(model.parameters()), lr=1e-4)\n",
    "criterion = torch.nn.BCELoss()"
   ]
  },
  {
   "cell_type": "code",
   "execution_count": null,
   "metadata": {},
   "outputs": [
    {
     "name": "stdout",
     "output_type": "stream",
     "text": [
      "tensor(13.7953, grad_fn=<BinaryCrossEntropyBackward>)\n",
      "tensor(13.6831, grad_fn=<BinaryCrossEntropyBackward>)\n",
      "tensor(13.8804, grad_fn=<BinaryCrossEntropyBackward>)\n",
      "tensor(13.8585, grad_fn=<BinaryCrossEntropyBackward>)\n",
      "tensor(13.7101, grad_fn=<BinaryCrossEntropyBackward>)\n",
      "tensor(13.8737, grad_fn=<BinaryCrossEntropyBackward>)\n",
      "tensor(13.8265, grad_fn=<BinaryCrossEntropyBackward>)\n",
      "tensor(13.8223, grad_fn=<BinaryCrossEntropyBackward>)\n",
      "tensor(13.8037, grad_fn=<BinaryCrossEntropyBackward>)\n",
      "tensor(13.9319, grad_fn=<BinaryCrossEntropyBackward>)\n",
      "tensor(13.9167, grad_fn=<BinaryCrossEntropyBackward>)\n",
      "tensor(13.8644, grad_fn=<BinaryCrossEntropyBackward>)\n",
      "tensor(13.8417, grad_fn=<BinaryCrossEntropyBackward>)\n",
      "tensor(13.8366, grad_fn=<BinaryCrossEntropyBackward>)\n",
      "tensor(13.9226, grad_fn=<BinaryCrossEntropyBackward>)\n",
      "tensor(13.7742, grad_fn=<BinaryCrossEntropyBackward>)\n",
      "tensor(13.8644, grad_fn=<BinaryCrossEntropyBackward>)\n",
      "tensor(13.8425, grad_fn=<BinaryCrossEntropyBackward>)\n",
      "tensor(13.9740, grad_fn=<BinaryCrossEntropyBackward>)\n",
      "tensor(13.7152, grad_fn=<BinaryCrossEntropyBackward>)\n",
      "tensor(13.8256, grad_fn=<BinaryCrossEntropyBackward>)\n",
      "tensor(13.8374, grad_fn=<BinaryCrossEntropyBackward>)\n",
      "tensor(13.8729, grad_fn=<BinaryCrossEntropyBackward>)\n",
      "tensor(13.8223, grad_fn=<BinaryCrossEntropyBackward>)\n",
      "tensor(13.8248, grad_fn=<BinaryCrossEntropyBackward>)\n",
      "tensor(13.8256, grad_fn=<BinaryCrossEntropyBackward>)\n",
      "tensor(13.7759, grad_fn=<BinaryCrossEntropyBackward>)\n",
      "tensor(13.7573, grad_fn=<BinaryCrossEntropyBackward>)\n",
      "tensor(13.8712, grad_fn=<BinaryCrossEntropyBackward>)\n",
      "tensor(13.8113, grad_fn=<BinaryCrossEntropyBackward>)\n",
      "tensor(13.8265, grad_fn=<BinaryCrossEntropyBackward>)\n",
      "tensor(13.8231, grad_fn=<BinaryCrossEntropyBackward>)\n",
      "tensor(13.8695, grad_fn=<BinaryCrossEntropyBackward>)\n",
      "tensor(13.7261, grad_fn=<BinaryCrossEntropyBackward>)\n",
      "tensor(13.9066, grad_fn=<BinaryCrossEntropyBackward>)\n",
      "tensor(13.8349, grad_fn=<BinaryCrossEntropyBackward>)\n",
      "tensor(13.8054, grad_fn=<BinaryCrossEntropyBackward>)\n",
      "tensor(13.8062, grad_fn=<BinaryCrossEntropyBackward>)\n",
      "tensor(13.8906, grad_fn=<BinaryCrossEntropyBackward>)\n",
      "tensor(13.8518, grad_fn=<BinaryCrossEntropyBackward>)\n",
      "tensor(13.9041, grad_fn=<BinaryCrossEntropyBackward>)\n",
      "tensor(13.8155, grad_fn=<BinaryCrossEntropyBackward>)\n",
      "tensor(13.8847, grad_fn=<BinaryCrossEntropyBackward>)\n",
      "tensor(13.7919, grad_fn=<BinaryCrossEntropyBackward>)\n",
      "tensor(13.7818, grad_fn=<BinaryCrossEntropyBackward>)\n",
      "tensor(13.8029, grad_fn=<BinaryCrossEntropyBackward>)\n",
      "tensor(13.8577, grad_fn=<BinaryCrossEntropyBackward>)\n",
      "tensor(13.8045, grad_fn=<BinaryCrossEntropyBackward>)\n",
      "tensor(13.8737, grad_fn=<BinaryCrossEntropyBackward>)\n",
      "tensor(13.8889, grad_fn=<BinaryCrossEntropyBackward>)\n",
      "tensor(13.8661, grad_fn=<BinaryCrossEntropyBackward>)\n",
      "tensor(13.7278, grad_fn=<BinaryCrossEntropyBackward>)\n",
      "tensor(13.7911, grad_fn=<BinaryCrossEntropyBackward>)\n",
      "tensor(13.8105, grad_fn=<BinaryCrossEntropyBackward>)\n",
      "tensor(13.6722, grad_fn=<BinaryCrossEntropyBackward>)\n",
      "tensor(13.7927, grad_fn=<BinaryCrossEntropyBackward>)\n",
      "tensor(13.8029, grad_fn=<BinaryCrossEntropyBackward>)\n",
      "tensor(13.8931, grad_fn=<BinaryCrossEntropyBackward>)\n",
      "tensor(13.8577, grad_fn=<BinaryCrossEntropyBackward>)\n",
      "tensor(13.8332, grad_fn=<BinaryCrossEntropyBackward>)\n",
      "tensor(13.8147, grad_fn=<BinaryCrossEntropyBackward>)\n",
      "tensor(13.7481, grad_fn=<BinaryCrossEntropyBackward>)\n",
      "tensor(13.8138, grad_fn=<BinaryCrossEntropyBackward>)\n",
      "tensor(13.8627, grad_fn=<BinaryCrossEntropyBackward>)\n",
      "tensor(13.6865, grad_fn=<BinaryCrossEntropyBackward>)\n",
      "tensor(13.7725, grad_fn=<BinaryCrossEntropyBackward>)\n",
      "tensor(13.7540, grad_fn=<BinaryCrossEntropyBackward>)\n",
      "tensor(13.9749, grad_fn=<BinaryCrossEntropyBackward>)\n",
      "tensor(13.7911, grad_fn=<BinaryCrossEntropyBackward>)\n",
      "tensor(13.8610, grad_fn=<BinaryCrossEntropyBackward>)\n",
      "tensor(13.7590, grad_fn=<BinaryCrossEntropyBackward>)\n",
      "tensor(13.8298, grad_fn=<BinaryCrossEntropyBackward>)\n",
      "tensor(13.8231, grad_fn=<BinaryCrossEntropyBackward>)\n",
      "tensor(13.7961, grad_fn=<BinaryCrossEntropyBackward>)\n",
      "tensor(13.7438, grad_fn=<BinaryCrossEntropyBackward>)\n"
     ]
    }
   ],
   "source": [
    "batch_size = 128\n",
    "for i in range(0, len(training_data), batch_size):\n",
    "    optimizer.zero_grad()\n",
    "    output, hidden = model(training_data[i], hidden)\n",
    "    batch_output = output[0][-1].unsqueeze(0)\n",
    "    for batch in range(1, batch_size):\n",
    "        output, hidden = model(training_data[i+batch], hidden)\n",
    "        batch_output = torch.cat((batch_output, output[0][-1].unsqueeze(0)))\n",
    "        \n",
    "    target = Binomial.Binomial(total_count=1, probs=torch.ones((batch_size, 256))/2)\n",
    "    \n",
    "    loss = criterion(batch_output, target.sample())\n",
    "    loss.backward(retain_graph=True)\n",
    "    print(loss)\n",
    "    optimizer.step()\n",
    "    if i % 128 == 0:\n",
    "        torch.save(model.state_dict(), \"model_checkpoint\")"
   ]
  },
  {
   "cell_type": "code",
   "execution_count": null,
   "metadata": {},
   "outputs": [],
   "source": [
    "for p in model.parameters():\n",
    "    print(p, p.shape)"
   ]
  },
  {
   "cell_type": "code",
   "execution_count": null,
   "metadata": {},
   "outputs": [],
   "source": []
  }
 ],
 "metadata": {
  "kernelspec": {
   "display_name": "Python 3",
   "language": "python",
   "name": "python3"
  },
  "language_info": {
   "codemirror_mode": {
    "name": "ipython",
    "version": 3
   },
   "file_extension": ".py",
   "mimetype": "text/x-python",
   "name": "python",
   "nbconvert_exporter": "python",
   "pygments_lexer": "ipython3",
   "version": "3.6.5"
  }
 },
 "nbformat": 4,
 "nbformat_minor": 2
}
